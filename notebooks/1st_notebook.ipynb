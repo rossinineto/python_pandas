{
 "cells": [
  {
   "cell_type": "code",
   "execution_count": 1,
   "metadata": {},
   "outputs": [
    {
     "name": "stdout",
     "output_type": "stream",
     "text": [
      "Python 3.8.3\n"
     ]
    }
   ],
   "source": [
    "!python -V"
   ]
  },
  {
   "cell_type": "code",
   "execution_count": 2,
   "metadata": {},
   "outputs": [
    {
     "data": {
      "text/plain": [
       "2"
      ]
     },
     "execution_count": 2,
     "metadata": {},
     "output_type": "execute_result"
    }
   ],
   "source": [
    "1 + 1"
   ]
  },
  {
   "cell_type": "code",
   "execution_count": 4,
   "metadata": {},
   "outputs": [
    {
     "name": "stdout",
     "output_type": "stream",
     "text": [
      "0\n",
      "1\n",
      "2\n",
      "3\n",
      "4\n",
      "5\n",
      "6\n",
      "7\n",
      "8\n",
      "9\n"
     ]
    }
   ],
   "source": [
    "for item in range(10):\n",
    "    print(item)"
   ]
  },
  {
   "cell_type": "code",
   "execution_count": 5,
   "metadata": {},
   "outputs": [
    {
     "name": "stderr",
     "output_type": "stream",
     "text": [
      "'ls' não é reconhecido como um comando interno\n",
      "ou externo, um programa operável ou um arquivo em lotes.\n"
     ]
    }
   ],
   "source": [
    "!ls -la"
   ]
  },
  {
   "cell_type": "code",
   "execution_count": 6,
   "metadata": {},
   "outputs": [
    {
     "data": {
      "text/plain": [
       "<function dir>"
      ]
     },
     "execution_count": 6,
     "metadata": {},
     "output_type": "execute_result"
    }
   ],
   "source": [
    "dir"
   ]
  },
  {
   "cell_type": "code",
   "execution_count": 7,
   "metadata": {},
   "outputs": [
    {
     "name": "stdout",
     "output_type": "stream",
     "text": [
      " O volume na unidade C é Acer\n",
      " O Número de Série do Volume é 6CB5-A592\n",
      "\n",
      " Pasta de C:\\Users\\Rossini\n",
      "\n",
      "25/08/2020  07:50    <DIR>          .\n",
      "25/08/2020  07:50    <DIR>          ..\n",
      "01/07/2020  19:35                57 .angular-config.json\n",
      "30/07/2019  17:32        13.009.754 .babel.json\n",
      "19/05/2020  13:07                87 .bashrc\n",
      "25/08/2020  06:23            12.315 .bash_history\n",
      "28/05/2020  11:42                99 .bash_profile\n",
      "25/08/2020  08:03    <DIR>          .conda\n",
      "25/08/2020  07:45                43 .condarc\n",
      "31/03/2020  11:22    <DIR>          .config\n",
      "07/06/2020  10:01             4.014 .dbshell\n",
      "28/07/2020  18:51    <DIR>          .dbus-keyrings\n",
      "28/07/2020  18:48    <DIR>          .eclipse\n",
      "03/06/2020  08:00               130 .gitconfig\n",
      "25/08/2020  07:46    <DIR>          .ipynb_checkpoints\n",
      "25/08/2020  07:47    <DIR>          .ipython\n",
      "17/06/2020  10:36    <DIR>          .irpf\n",
      "27/03/2020  17:55    <DIR>          .lemminx\n",
      "24/03/2020  08:41    <DIR>          .lsp4xml\n",
      "24/03/2020  14:06    <DIR>          .m2\n",
      "07/06/2020  08:47                 0 .mongorc.js\n",
      "27/05/2020  15:33    <DIR>          .node-gyp\n",
      "03/11/2019  09:58                16 .node_repl_history\n",
      "24/08/2020  13:20    <DIR>          .p2\n",
      "24/03/2020  09:43            40.080 .pdfbox.cache\n",
      "18/05/2020  08:27    <DIR>          .pm2\n",
      "25/08/2020  07:50                 0 .python_history\n",
      "19/03/2020  15:31    <DIR>          .receitanet\n",
      "17/06/2019  19:45    <DIR>          .rfb\n",
      "15/12/2019  10:53    <DIR>          .ssh\n",
      "24/03/2020  08:31    <DIR>          .tooling\n",
      "21/12/2019  10:41    <DIR>          .vscode\n",
      "30/05/2020  11:48    <DIR>          3D Objects\n",
      "25/08/2020  07:35    <DIR>          anaconda3\n",
      "13/03/2019  23:19    <DIR>          Application Data\n",
      "30/05/2020  11:48    <DIR>          Contacts\n",
      "24/08/2020  17:45    <DIR>          Desktop\n",
      "25/08/2020  07:53    <DIR>          Documents\n",
      "25/08/2020  07:19    <DIR>          Downloads\n",
      "29/04/2020  22:33    <DIR>          eclipse-workspace\n",
      "30/05/2020  11:48    <DIR>          Favorites\n",
      "30/05/2020  11:48    <DIR>          Links\n",
      "30/05/2020  11:48    <DIR>          Music\n",
      "20/08/2020  05:23    <DIR>          OneDrive\n",
      "30/05/2020  11:48    <DIR>          Pictures\n",
      "27/04/2020  11:09    <DIR>          Postman\n",
      "08/08/2020  08:09    <DIR>          repositorios_git\n",
      "30/05/2020  11:48    <DIR>          Saved Games\n",
      "30/05/2020  11:48    <DIR>          Searches\n",
      "04/08/2020  12:55               154 startweblogic.bat\n",
      "04/08/2020  12:56               159 startweblogicDebug.bat\n",
      "25/08/2020  07:50               685 Untitled.ipynb\n",
      "14/08/2020  15:51             1.302 v131d027.cert\n",
      "30/05/2020  11:48    <DIR>          Videos\n",
      "13/04/2020  05:32    <DIR>          workspace\n",
      "              16 arquivo(s)     13.068.895 bytes\n",
      "              39 pasta(s)   144.897.372.160 bytes disponíveis\n"
     ]
    }
   ],
   "source": [
    "!dir"
   ]
  },
  {
   "cell_type": "code",
   "execution_count": null,
   "metadata": {},
   "outputs": [],
   "source": []
  }
 ],
 "metadata": {
  "kernelspec": {
   "display_name": "Python 3",
   "language": "python",
   "name": "python3"
  },
  "language_info": {
   "codemirror_mode": {
    "name": "ipython",
    "version": 3
   },
   "file_extension": ".py",
   "mimetype": "text/x-python",
   "name": "python",
   "nbconvert_exporter": "python",
   "pygments_lexer": "ipython3",
   "version": "3.8.3"
  }
 },
 "nbformat": 4,
 "nbformat_minor": 4
}
